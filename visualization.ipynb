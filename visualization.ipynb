{
 "cells": [
  {
   "cell_type": "code",
   "execution_count": null,
   "metadata": {},
   "outputs": [],
   "source": [
    "import numpy as np\n",
    "from sklearn.decomposition import NMF\n",
    "from sklearn.metrics import silhouette_score\n",
    "from sklearn.metrics.pairwise import cosine_similarity\n",
    "from sklearn.cluster import KMeans\n",
    "# Step 1: Convert somatic mutations into a mutational matrix M\n",
    "M=mut_encoded_matrix.T\n",
    "# Step 4: Perform NMF with rank k\n",
    "nmf = NMF(n_components=k)\n",
    "W = nmf.fit_transform(mut_encoded_matrix)\n",
    "H = nmf.components_\n",
    "dataframe_data=pd.DataFrame(H)\n",
    "dataframe_data\n",
    "dataframe_data.columns= mut_encoded_matrix.columns\n",
    "dataframe_data.iloc[:,1]\n",
    "input_matrix=dataframe_data.transpose()\n",
    "input_matrix\n",
    "np.savetxt(r'input.csv', input_matrix)\n",
    "input_matrix.to_csv('output.csv', sep='\\t', index=True, header=True)"
   ]
  }
 ],
 "metadata": {
  "language_info": {
   "name": "python"
  },
  "orig_nbformat": 4
 },
 "nbformat": 4,
 "nbformat_minor": 2
}
